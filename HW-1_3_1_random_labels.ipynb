{
  "nbformat": 4,
  "nbformat_minor": 0,
  "metadata": {
    "colab": {
      "provenance": []
    },
    "kernelspec": {
      "name": "python3",
      "display_name": "Python 3"
    },
    "language_info": {
      "name": "python"
    }
  },
  "cells": [
    {
      "cell_type": "code",
      "execution_count": 2,
      "metadata": {
        "colab": {
          "base_uri": "https://localhost:8080/",
          "height": 1000
        },
        "id": "134VULjj8aDV",
        "outputId": "a6eec476-32b2-4f96-9b14-290fe455d1e6"
      },
      "outputs": [
        {
          "output_type": "stream",
          "name": "stdout",
          "text": [
            "Downloading http://yann.lecun.com/exdb/mnist/train-images-idx3-ubyte.gz\n",
            "Failed to download (trying next):\n",
            "HTTP Error 403: Forbidden\n",
            "\n",
            "Downloading https://ossci-datasets.s3.amazonaws.com/mnist/train-images-idx3-ubyte.gz\n",
            "Downloading https://ossci-datasets.s3.amazonaws.com/mnist/train-images-idx3-ubyte.gz to C:\\Users\\lokes\\OneDrive\\Desktop\\deep/MNIST/raw/train-images-idx3-ubyte.gz\n"
          ]
        },
        {
          "output_type": "stream",
          "name": "stderr",
          "text": [
            "100%|██████████| 9912422/9912422 [00:00<00:00, 128061207.26it/s]\n"
          ]
        },
        {
          "output_type": "stream",
          "name": "stdout",
          "text": [
            "Extracting C:\\Users\\lokes\\OneDrive\\Desktop\\deep/MNIST/raw/train-images-idx3-ubyte.gz to C:\\Users\\lokes\\OneDrive\\Desktop\\deep/MNIST/raw\n",
            "\n",
            "Downloading http://yann.lecun.com/exdb/mnist/train-labels-idx1-ubyte.gz\n",
            "Failed to download (trying next):\n",
            "HTTP Error 403: Forbidden\n",
            "\n",
            "Downloading https://ossci-datasets.s3.amazonaws.com/mnist/train-labels-idx1-ubyte.gz\n",
            "Downloading https://ossci-datasets.s3.amazonaws.com/mnist/train-labels-idx1-ubyte.gz to C:\\Users\\lokes\\OneDrive\\Desktop\\deep/MNIST/raw/train-labels-idx1-ubyte.gz\n"
          ]
        },
        {
          "output_type": "stream",
          "name": "stderr",
          "text": [
            "100%|██████████| 28881/28881 [00:00<00:00, 43340140.90it/s]"
          ]
        },
        {
          "output_type": "stream",
          "name": "stdout",
          "text": [
            "Extracting C:\\Users\\lokes\\OneDrive\\Desktop\\deep/MNIST/raw/train-labels-idx1-ubyte.gz to C:\\Users\\lokes\\OneDrive\\Desktop\\deep/MNIST/raw\n",
            "\n",
            "Downloading http://yann.lecun.com/exdb/mnist/t10k-images-idx3-ubyte.gz\n"
          ]
        },
        {
          "output_type": "stream",
          "name": "stderr",
          "text": [
            "\n"
          ]
        },
        {
          "output_type": "stream",
          "name": "stdout",
          "text": [
            "Failed to download (trying next):\n",
            "HTTP Error 403: Forbidden\n",
            "\n",
            "Downloading https://ossci-datasets.s3.amazonaws.com/mnist/t10k-images-idx3-ubyte.gz\n",
            "Downloading https://ossci-datasets.s3.amazonaws.com/mnist/t10k-images-idx3-ubyte.gz to C:\\Users\\lokes\\OneDrive\\Desktop\\deep/MNIST/raw/t10k-images-idx3-ubyte.gz\n"
          ]
        },
        {
          "output_type": "stream",
          "name": "stderr",
          "text": [
            "100%|██████████| 1648877/1648877 [00:00<00:00, 92080517.08it/s]\n"
          ]
        },
        {
          "output_type": "stream",
          "name": "stdout",
          "text": [
            "Extracting C:\\Users\\lokes\\OneDrive\\Desktop\\deep/MNIST/raw/t10k-images-idx3-ubyte.gz to C:\\Users\\lokes\\OneDrive\\Desktop\\deep/MNIST/raw\n",
            "\n",
            "Downloading http://yann.lecun.com/exdb/mnist/t10k-labels-idx1-ubyte.gz\n",
            "Failed to download (trying next):\n",
            "HTTP Error 403: Forbidden\n",
            "\n",
            "Downloading https://ossci-datasets.s3.amazonaws.com/mnist/t10k-labels-idx1-ubyte.gz\n",
            "Downloading https://ossci-datasets.s3.amazonaws.com/mnist/t10k-labels-idx1-ubyte.gz to C:\\Users\\lokes\\OneDrive\\Desktop\\deep/MNIST/raw/t10k-labels-idx1-ubyte.gz\n"
          ]
        },
        {
          "output_type": "stream",
          "name": "stderr",
          "text": [
            "100%|██████████| 4542/4542 [00:00<00:00, 7697183.34it/s]"
          ]
        },
        {
          "output_type": "stream",
          "name": "stdout",
          "text": [
            "Extracting C:\\Users\\lokes\\OneDrive\\Desktop\\deep/MNIST/raw/t10k-labels-idx1-ubyte.gz to C:\\Users\\lokes\\OneDrive\\Desktop\\deep/MNIST/raw\n",
            "\n"
          ]
        },
        {
          "output_type": "stream",
          "name": "stderr",
          "text": [
            "\n"
          ]
        },
        {
          "output_type": "stream",
          "name": "stdout",
          "text": [
            "Epoch 1/20, Train Loss: 2.3032, Test Loss: 2.3026\n",
            "Epoch 2/20, Train Loss: 2.3030, Test Loss: 2.3025\n",
            "Epoch 3/20, Train Loss: 2.3028, Test Loss: 2.3026\n",
            "Epoch 4/20, Train Loss: 2.3025, Test Loss: 2.3027\n",
            "Epoch 5/20, Train Loss: 2.3023, Test Loss: 2.3036\n",
            "Epoch 6/20, Train Loss: 2.3017, Test Loss: 2.3031\n",
            "Epoch 7/20, Train Loss: 2.3009, Test Loss: 2.3052\n",
            "Epoch 8/20, Train Loss: 2.2993, Test Loss: 2.3067\n",
            "Epoch 9/20, Train Loss: 2.2975, Test Loss: 2.3086\n",
            "Epoch 10/20, Train Loss: 2.2942, Test Loss: 2.3108\n",
            "Epoch 11/20, Train Loss: 2.2899, Test Loss: 2.3150\n",
            "Epoch 12/20, Train Loss: 2.2842, Test Loss: 2.3178\n",
            "Epoch 13/20, Train Loss: 2.2771, Test Loss: 2.3238\n",
            "Epoch 14/20, Train Loss: 2.2668, Test Loss: 2.3334\n",
            "Epoch 15/20, Train Loss: 2.2548, Test Loss: 2.3490\n",
            "Epoch 16/20, Train Loss: 2.2397, Test Loss: 2.3578\n",
            "Epoch 17/20, Train Loss: 2.2232, Test Loss: 2.3826\n",
            "Epoch 18/20, Train Loss: 2.2045, Test Loss: 2.3932\n",
            "Epoch 19/20, Train Loss: 2.1845, Test Loss: 2.4130\n",
            "Epoch 20/20, Train Loss: 2.1630, Test Loss: 2.4395\n"
          ]
        },
        {
          "output_type": "display_data",
          "data": {
            "text/plain": [
              "<Figure size 640x480 with 1 Axes>"
            ],
            "image/png": "[encoded data removed]"
          },
          "metadata": {}
        }
      ],
      "source": [
        "import torch\n",
        "import torch.nn as nn\n",
        "import torch.nn.functional as F\n",
        "from torch.utils.data import DataLoader\n",
        "from torchvision import datasets, transforms\n",
        "import numpy as np\n",
        "import matplotlib.pyplot as plt\n",
        "%matplotlib inline\n",
        "\n",
        "# Transform to convert images to tensors\n",
        "data_transform = transforms.ToTensor()\n",
        "\n",
        "# Load the MNIST dataset\n",
        "train_data = datasets.MNIST(root='C:\\\\Users\\\\lokes\\\\OneDrive\\\\Desktop\\\\deep', train=True, download=True, transform=data_transform)\n",
        "test_data = datasets.MNIST(root='C:\\\\Users\\\\lokes\\\\OneDrive\\\\Desktop\\\\deep', train=False, download=True, transform=data_transform)\n",
        "\n",
        "# Randomly shuffle the labels in the training and test sets\n",
        "random_train_labels = torch.tensor(np.random.randint(0, 10, size=(len(train_data),)))\n",
        "train_data.targets = random_train_labels\n",
        "\n",
        "random_test_labels = torch.tensor(np.random.randint(0, 10, size=(len(test_data),)))\n",
        "test_data.targets = random_test_labels\n",
        "\n",
        "# Create DataLoader objects\n",
        "train_loader = DataLoader(train_data, batch_size=64, shuffle=True)\n",
        "test_loader = DataLoader(test_data, batch_size=64, shuffle=True)\n",
        "\n",
        "# Define a neural network model with 3 hidden layers of 256 nodes each\n",
        "class CustomModel(nn.Module):\n",
        "    def __init__(self, input_size=784, hidden_size=256, output_size=10):\n",
        "        super(CustomModel, self).__init__()\n",
        "        self.fc1 = nn.Linear(input_size, hidden_size)\n",
        "        self.fc2 = nn.Linear(hidden_size, hidden_size)\n",
        "        self.fc3 = nn.Linear(hidden_size, hidden_size)\n",
        "        self.out = nn.Linear(hidden_size, output_size)\n",
        "\n",
        "    def forward(self, x):\n",
        "        x = F.relu(self.fc1(x))\n",
        "        x = F.relu(self.fc2(x))\n",
        "        x = F.relu(self.fc3(x))\n",
        "        x = self.out(x)\n",
        "        return x\n",
        "\n",
        "# Instantiate the model\n",
        "model = CustomModel()\n",
        "\n",
        "# Define the loss function and optimizer\n",
        "criterion = nn.CrossEntropyLoss()\n",
        "optimizer = torch.optim.Adam(model.parameters(), lr=0.001)\n",
        "\n",
        "# Training parameters\n",
        "num_epochs = 20\n",
        "train_losses = []\n",
        "test_losses = []\n",
        "\n",
        "# Training loop\n",
        "for epoch in range(num_epochs):\n",
        "    model.train()\n",
        "    train_loss = 0.0\n",
        "\n",
        "    for X_train, y_train in train_loader:\n",
        "        # Flatten the images into 1D vectors of size 784 (28x28)\n",
        "        X_train = X_train.view(-1, 28 * 28)\n",
        "\n",
        "        # Forward pass: compute predictions and loss\n",
        "        y_pred = model(X_train)\n",
        "        loss = criterion(y_pred, y_train)\n",
        "\n",
        "        # Backward pass: update model weights\n",
        "        optimizer.zero_grad()\n",
        "        loss.backward()\n",
        "        optimizer.step()\n",
        "\n",
        "        train_loss += loss.item()\n",
        "\n",
        "    # Calculate average training loss\n",
        "    avg_train_loss = train_loss / len(train_loader)\n",
        "    train_losses.append(avg_train_loss)\n",
        "\n",
        "    # Evaluate the model on the test set\n",
        "    model.eval()\n",
        "    test_loss = 0.0\n",
        "    with torch.no_grad():\n",
        "        for X_test, y_test in test_loader:\n",
        "            X_test = X_test.view(-1, 28 * 28)\n",
        "            y_val = model(X_test)\n",
        "            loss = criterion(y_val, y_test)\n",
        "            test_loss += loss.item()\n",
        "\n",
        "    avg_test_loss = test_loss / len(test_loader)\n",
        "    test_losses.append(avg_test_loss)\n",
        "\n",
        "    print(f\"Epoch {epoch+1}/{num_epochs}, Train Loss: {avg_train_loss:.4f}, Test Loss: {avg_test_loss:.4f}\")\n",
        "\n",
        "# Plot the training and test losses over epochs\n",
        "plt.plot(range(num_epochs), train_losses, 'r', label='Training Loss')\n",
        "plt.plot(range(num_epochs), test_losses, 'b', label='Test Loss')\n",
        "plt.title(\"Training and Test Losses (Random Labels)\")\n",
        "plt.xlabel(\"Epochs\")\n",
        "plt.ylabel(\"Loss\")\n",
        "plt.legend(loc=\"upper right\")\n",
        "plt.show()\n"
      ]
    }
  ]
}
